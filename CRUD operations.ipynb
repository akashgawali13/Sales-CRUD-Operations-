{
 "cells": [
  {
   "cell_type": "code",
   "execution_count": 1,
   "id": "b4bdcb75",
   "metadata": {},
   "outputs": [
    {
     "name": "stdout",
     "output_type": "stream",
     "text": [
      "Requirement already satisfied: openpyxl in c:\\users\\akash\\appdata\\local\\programs\\python\\python310\\lib\\site-packages (3.1.5)\n",
      "Requirement already satisfied: et-xmlfile in c:\\users\\akash\\appdata\\local\\programs\\python\\python310\\lib\\site-packages (from openpyxl) (2.0.0)\n"
     ]
    },
    {
     "name": "stderr",
     "output_type": "stream",
     "text": [
      "WARNING: Ignoring invalid distribution -rotobuf (c:\\users\\akash\\appdata\\local\\programs\\python\\python310\\lib\\site-packages)\n",
      "WARNING: Ignoring invalid distribution -rotobuf (c:\\users\\akash\\appdata\\local\\programs\\python\\python310\\lib\\site-packages)\n",
      "WARNING: Ignoring invalid distribution -rotobuf (c:\\users\\akash\\appdata\\local\\programs\\python\\python310\\lib\\site-packages)\n"
     ]
    }
   ],
   "source": [
    "!pip install openpyxl\n"
   ]
  },
  {
   "cell_type": "code",
   "execution_count": 2,
   "id": "dc925611",
   "metadata": {},
   "outputs": [],
   "source": [
    "import pandas as pd\n",
    "import os\n",
    "\n",
    "# Excel file path\n",
    "DATA_FILE = r\"E:\\Project\\CRUD Operations on sales dataset\\orders_data.xlsx\"\n",
    "\n",
    "# Load data from Excel\n",
    "def load_data():\n",
    "    if os.path.exists(DATA_FILE):\n",
    "        try:\n",
    "            return pd.read_excel(DATA_FILE, engine='openpyxl')\n",
    "        except Exception as e:\n",
    "            print(f\"Error reading Excel file: {e}\")\n",
    "            return pd.DataFrame(columns=['OrderID', 'Product', 'Category', 'Quantity', 'Price'])\n",
    "    else:\n",
    "        print(\"Excel file not found. A new one will be created on save.\")\n",
    "        return pd.DataFrame(columns=['OrderID', 'Product', 'Category', 'Quantity', 'Price'])\n"
   ]
  },
  {
   "cell_type": "code",
   "execution_count": 3,
   "id": "be1eb091",
   "metadata": {},
   "outputs": [],
   "source": [
    "# Save data to Excel \n",
    "def save_data(df):\n",
    "    try:\n",
    "        df.to_excel(DATA_FILE, index=False, engine='openpyxl')\n",
    "        print(\"Data saved successfully to Excel.\")\n",
    "    except Exception as e:\n",
    "        print(f\"Error saving Excel file: {e}\")"
   ]
  },
  {
   "cell_type": "code",
   "execution_count": 4,
   "id": "5b57152c",
   "metadata": {},
   "outputs": [],
   "source": [
    "# Create a new record\n",
    "def create_record():\n",
    "    df = load_data()\n",
    "    print(\"Enter new sales record:\")\n",
    "\n",
    "    try:\n",
    "        order_id = int(input(\"OrderID: \"))\n",
    "    except ValueError:\n",
    "        print(\"Invalid OrderID.\")\n",
    "        return\n",
    "    \n",
    "    # Check for duplicate OrderID\n",
    "    \n",
    "    if order_id in df['OrderID'].values:\n",
    "        print(\"OrderID already exists. Try again.\")\n",
    "        return\n",
    "\n",
    "    product = input(\"Product: \")\n",
    "    category = input(\"Category: \")\n",
    "    try:\n",
    "        quantity = int(input(\"Quantity: \"))\n",
    "        price = float(input(\"Price: \"))\n",
    "    except ValueError:\n",
    "        print(\"Invalid quantity or price.\")\n",
    "        return\n",
    "\n",
    "\n",
    "    new_record = {\n",
    "        \"OrderID\": order_id,\n",
    "        \"Product\": product,\n",
    "        \"Category\": category,\n",
    "        \"Quantity\": quantity,\n",
    "        \"Price\": price,\n",
    "    }\n",
    "\n",
    "    df = pd.concat([df, pd.DataFrame([new_record])], ignore_index=True)\n",
    "    save_data(df)\n"
   ]
  },
  {
   "cell_type": "code",
   "execution_count": 5,
   "id": "d57d1444",
   "metadata": {},
   "outputs": [],
   "source": [
    "# Read records\n",
    "def read_records():\n",
    "    df = load_data()\n",
    "    print(\"\\n1. View All\\n2. Filter by OrderID\")\n",
    "    choice = input(\"Choose: \")\n",
    "\n",
    "    if choice == '1':\n",
    "        print(df)\n",
    "    elif choice == '2':\n",
    "        try:\n",
    "            oid = int(input(\"Enter OrderID: \"))\n",
    "            record = df[df['OrderID'] == oid]\n",
    "            if record.empty:\n",
    "                print(\"No record found.\")\n",
    "            else:\n",
    "                print(record)\n",
    "        except ValueError:\n",
    "            print(\"Invalid OrderID.\")"
   ]
  },
  {
   "cell_type": "code",
   "execution_count": 7,
   "id": "5741ed2d",
   "metadata": {},
   "outputs": [],
   "source": [
    "# update an existing record\n",
    "\n",
    "def update_record():\n",
    "    \n",
    "    df = load_data()\n",
    "    try:\n",
    "        oid = int(input(\"Enter OrderID to update: \"))\n",
    "    except ValueError:\n",
    "        print(\"Invalid OrderID.\")\n",
    "        return\n",
    "\n",
    "    if oid not in df['OrderID'].values:\n",
    "        print(\"Record not found.\")\n",
    "        return\n",
    "\n",
    "    index = df[df['OrderID'] == oid].index[0]\n",
    "    print(\"Enter new details (leave blank to keep existing):\")\n",
    "\n",
    "    for field in ['Product', 'Category', 'Quantity', 'Price']:\n",
    "        val = input(f\"{field} ({df.at[index, field]}): \")\n",
    "        if val != '':\n",
    "            try:\n",
    "                if field == 'Quantity':\n",
    "                    df.at[index, field] = int(val)\n",
    "                elif field == 'Price':\n",
    "                    df.at[index, field] = float(val)\n",
    "                else:\n",
    "                    df.at[index, field] = val\n",
    "            except ValueError:\n",
    "                print(f\"Invalid value for {field}. Skipping update for this field.\")\n",
    "\n",
    "    save_data(df)\n"
   ]
  },
  {
   "cell_type": "code",
   "execution_count": 8,
   "id": "1c91927e",
   "metadata": {},
   "outputs": [],
   "source": [
    "# Delete a record\n",
    "def delete_record():\n",
    "    df = load_data()\n",
    "    try:\n",
    "        oid = int(input(\"Enter OrderID to delete: \"))\n",
    "    except ValueError:\n",
    "        print(\"Invalid OrderID.\")\n",
    "        return\n",
    "\n",
    "    df_new = df[df['OrderID'] != oid]\n",
    "\n",
    "    if len(df_new) == len(df):\n",
    "        print(\"No record deleted. OrderID not found.\")\n",
    "    else:\n",
    "        save_data(df_new)\n",
    "        print(\"Record deleted successfully.\")\n"
   ]
  },
  {
   "cell_type": "code",
   "execution_count": 2,
   "id": "dd7be0af",
   "metadata": {},
   "outputs": [
    {
     "name": "stdout",
     "output_type": "stream",
     "text": [
      "\n",
      "--- CRUD Operations Menu ---\n",
      "1. Create Record\n",
      "2. Read Records\n",
      "3. Update Record\n",
      "4. Delete Record\n",
      "5. Exit\n"
     ]
    },
    {
     "ename": "NameError",
     "evalue": "name 'read_records' is not defined",
     "output_type": "error",
     "traceback": [
      "\u001b[1;31m---------------------------------------------------------------------------\u001b[0m",
      "\u001b[1;31mNameError\u001b[0m                                 Traceback (most recent call last)",
      "Cell \u001b[1;32mIn[2], line 27\u001b[0m\n\u001b[0;32m     24\u001b[0m             \u001b[38;5;28mprint\u001b[39m(\u001b[38;5;124m\"\u001b[39m\u001b[38;5;124mInvalid option. Try again.\u001b[39m\u001b[38;5;124m\"\u001b[39m)\n\u001b[0;32m     26\u001b[0m \u001b[38;5;28;01mif\u001b[39;00m \u001b[38;5;18m__name__\u001b[39m \u001b[38;5;241m==\u001b[39m \u001b[38;5;124m\"\u001b[39m\u001b[38;5;124m__main__\u001b[39m\u001b[38;5;124m\"\u001b[39m:\n\u001b[1;32m---> 27\u001b[0m     \u001b[43mmenu\u001b[49m\u001b[43m(\u001b[49m\u001b[43m)\u001b[49m\n",
      "Cell \u001b[1;32mIn[2], line 16\u001b[0m, in \u001b[0;36mmenu\u001b[1;34m()\u001b[0m\n\u001b[0;32m     14\u001b[0m     create_record()\n\u001b[0;32m     15\u001b[0m \u001b[38;5;28;01melif\u001b[39;00m choice \u001b[38;5;241m==\u001b[39m \u001b[38;5;124m'\u001b[39m\u001b[38;5;124m2\u001b[39m\u001b[38;5;124m'\u001b[39m:\n\u001b[1;32m---> 16\u001b[0m     \u001b[43mread_records\u001b[49m()\n\u001b[0;32m     17\u001b[0m \u001b[38;5;28;01melif\u001b[39;00m choice \u001b[38;5;241m==\u001b[39m \u001b[38;5;124m'\u001b[39m\u001b[38;5;124m3\u001b[39m\u001b[38;5;124m'\u001b[39m:\n\u001b[0;32m     18\u001b[0m     update_record()\n",
      "\u001b[1;31mNameError\u001b[0m: name 'read_records' is not defined"
     ]
    }
   ],
   "source": [
    "# Main menu loop\n",
    "def menu():\n",
    "    while True:\n",
    "        print(\"\\n--- CRUD Operations Menu ---\")\n",
    "        print(\"1. Create Record\")\n",
    "        print(\"2. Read Records\")\n",
    "        print(\"3. Update Record\")\n",
    "        print(\"4. Delete Record\")\n",
    "        print(\"5. Exit\")\n",
    "\n",
    "        choice = input(\"Choose an option: \")\n",
    "\n",
    "        if choice == '1':\n",
    "            create_record()\n",
    "        elif choice == '2':\n",
    "            read_records()\n",
    "        elif choice == '3':\n",
    "            update_record()\n",
    "        elif choice == '4':\n",
    "            delete_record()\n",
    "        elif choice == '5':\n",
    "            break\n",
    "        else:\n",
    "            print(\"Invalid option. Try again.\")\n",
    "\n",
    "if __name__ == \"__main__\":\n",
    "    menu()"
   ]
  },
  {
   "cell_type": "code",
   "execution_count": null,
   "id": "778e3b7a",
   "metadata": {},
   "outputs": [],
   "source": []
  }
 ],
 "metadata": {
  "kernelspec": {
   "display_name": "Python 3",
   "language": "python",
   "name": "python3"
  },
  "language_info": {
   "codemirror_mode": {
    "name": "ipython",
    "version": 3
   },
   "file_extension": ".py",
   "mimetype": "text/x-python",
   "name": "python",
   "nbconvert_exporter": "python",
   "pygments_lexer": "ipython3",
   "version": "3.10.0"
  }
 },
 "nbformat": 4,
 "nbformat_minor": 5
}
